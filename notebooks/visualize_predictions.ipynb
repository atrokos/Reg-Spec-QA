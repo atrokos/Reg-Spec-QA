{
 "cells": [
  {
   "cell_type": "code",
   "execution_count": 24,
   "metadata": {},
   "outputs": [],
   "source": [
    "import pandas as pd\n",
    "pd.set_option('display.max_colwidth', None)"
   ]
  },
  {
   "cell_type": "code",
   "execution_count": 25,
   "metadata": {},
   "outputs": [],
   "source": [
    "\n",
    "df_phi4 = pd.read_csv(\"../data/predictions/dataset_CS_dev_phi4_predicted.csv\")\n",
    "df_gemma = pd.read_csv(\"../data/predictions/dataset_CS_dev_gemma_predicted.csv\")\n",
    "df_aya = pd.read_csv(\"../data/predictions/dataset_CS_dev_aya_predicted.csv\")"
   ]
  },
  {
   "cell_type": "code",
   "execution_count": null,
   "metadata": {},
   "outputs": [],
   "source": [
    "df_phi4[[\"question\", \"answer\", \"predicted_answer\", \"predicted_answer_en\"]].iloc[-5:]"
   ]
  },
  {
   "cell_type": "code",
   "execution_count": null,
   "metadata": {},
   "outputs": [],
   "source": [
    "df_gemma[[\"question\", \"answer\", \"predicted_answer\", \"predicted_answer_en\"]].iloc[-5:]"
   ]
  },
  {
   "cell_type": "code",
   "execution_count": null,
   "metadata": {},
   "outputs": [],
   "source": [
    "df_aya[[\"question\", \"answer\", \"predicted_answer\", \"predicted_answer_en\"]].iloc[-5:]"
   ]
  }
 ],
 "metadata": {
  "kernelspec": {
   "display_name": ".venv",
   "language": "python",
   "name": "python3"
  },
  "language_info": {
   "codemirror_mode": {
    "name": "ipython",
    "version": 3
   },
   "file_extension": ".py",
   "mimetype": "text/x-python",
   "name": "python",
   "nbconvert_exporter": "python",
   "pygments_lexer": "ipython3",
   "version": "3.11.10"
  }
 },
 "nbformat": 4,
 "nbformat_minor": 2
}
